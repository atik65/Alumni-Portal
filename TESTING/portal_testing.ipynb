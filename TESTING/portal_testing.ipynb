{
 "cells": [
  {
   "cell_type": "code",
   "execution_count": 1,
   "metadata": {},
   "outputs": [],
   "source": [
    "from selenium import webdriver\n",
    "from selenium.webdriver.common.by import By\n",
    "import time\n",
    "\n",
    "\n",
    "driver = webdriver.Chrome()\n",
    "driver.get(\"https://alumni-portal.vercel.app\")\n",
    "time.sleep(2)\n",
    "\n",
    "#click theme button 1st for dropdown\n",
    "driver.find_element(By.XPATH, \"//*[@id='radix-:R9jt9ja:']\").click()\n",
    "time.sleep(1)\n",
    "\n",
    "#click theme button 2nd click Dark Theme\n",
    "driver.find_element(By.XPATH, \"//*[@id='radix-:R9jt9jaH1:']/div[3]\").click()\n",
    "time.sleep(1)\n",
    "\n",
    "#click theme button 3rd click for dropdown\n",
    "driver.find_element(By.XPATH, \"//*[@id='radix-:R9jt9ja:']\").click()\n",
    "time.sleep(1)\n",
    "\n",
    "#click theme button 4th click for white\n",
    "driver.find_element(By.XPATH, \"//*[@id='radix-:R9jt9jaH1:']/div[2]\").click()\n",
    "time.sleep(1)\n",
    "\n",
    "#Click Home button\n",
    "driver.find_element(By.XPATH, \"/html/body/div[1]/div/div/div[2]/div/div[2]/div[1]/ul/li[1]/a\").click()\n",
    "time.sleep(1)\n",
    "\n",
    "#Click Alumni List \n",
    "driver.find_element(By.XPATH, \"/html/body/div/div/div/div[2]/div/div[2]/div[2]/ul/li[1]/a/span\").click()\n",
    "time.sleep(1)\n",
    "\n",
    "#click view profile button\n",
    "driver.find_element(By.XPATH, \"/html/body/div/div/main/div/div/div/div[1]/div[1]/div[4]/a/span\").click()\n",
    "time.sleep(1)\n",
    "\n",
    "#click Message button\n",
    "driver.find_element(By.XPATH, \"/html/body/div[1]/div/main/div/div/div/div[1]/div/div[3]/div/button\").click()\n",
    "\n",
    "#Click Home button\n",
    "driver.find_element(By.XPATH, \"/html/body/div[1]/div/div/div[2]/div/div[2]/div[1]/ul/li[1]/a\").click()\n",
    "time.sleep(1)\n",
    "\n",
    "#After testing quite the browser\n",
    "driver.quit()"
   ]
  },
  {
   "cell_type": "code",
   "execution_count": null,
   "metadata": {},
   "outputs": [],
   "source": []
  },
  {
   "cell_type": "code",
   "execution_count": null,
   "metadata": {},
   "outputs": [],
   "source": []
  },
  {
   "cell_type": "code",
   "execution_count": null,
   "metadata": {},
   "outputs": [],
   "source": []
  }
 ],
 "metadata": {
  "kernelspec": {
   "display_name": "Python 3",
   "language": "python",
   "name": "python3"
  },
  "language_info": {
   "codemirror_mode": {
    "name": "ipython",
    "version": 3
   },
   "file_extension": ".py",
   "mimetype": "text/x-python",
   "name": "python",
   "nbconvert_exporter": "python",
   "pygments_lexer": "ipython3",
   "version": "3.11.4"
  }
 },
 "nbformat": 4,
 "nbformat_minor": 2
}
