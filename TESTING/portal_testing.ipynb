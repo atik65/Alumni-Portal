{
 "cells": [
  {
   "cell_type": "markdown",
   "metadata": {},
   "source": [
    "Import Dependencies"
   ]
  },
  {
   "cell_type": "code",
   "execution_count": null,
   "metadata": {},
   "outputs": [],
   "source": [
    "from selenium import webdriver\n",
    "from selenium.webdriver.common.by import By\n",
    "from selenium.webdriver.support.ui import WebDriverWait\n",
    "from selenium.webdriver.support import expected_conditions as EC\n",
    "import time"
   ]
  },
  {
   "cell_type": "markdown",
   "metadata": {},
   "source": [
    "Signup"
   ]
  },
  {
   "cell_type": "code",
   "execution_count": 69,
   "metadata": {},
   "outputs": [
    {
     "ename": "NoSuchElementException",
     "evalue": "Message: no such element: Unable to locate element: {\"method\":\"css selector\",\"selector\":\"[id=\"login-button\"]\"}\n  (Session info: chrome=131.0.6778.86); For documentation on this error, please visit: https://www.selenium.dev/documentation/webdriver/troubleshooting/errors#no-such-element-exception\nStacktrace:\n\tGetHandleVerifier [0x00007FF6B41B6CB5+28821]\n\t(No symbol) [0x00007FF6B4123840]\n\t(No symbol) [0x00007FF6B3FC578A]\n\t(No symbol) [0x00007FF6B40191BE]\n\t(No symbol) [0x00007FF6B40194AC]\n\t(No symbol) [0x00007FF6B4062647]\n\t(No symbol) [0x00007FF6B403F33F]\n\t(No symbol) [0x00007FF6B405F412]\n\t(No symbol) [0x00007FF6B403F0A3]\n\t(No symbol) [0x00007FF6B400A778]\n\t(No symbol) [0x00007FF6B400B8E1]\n\tGetHandleVerifier [0x00007FF6B44EFCAD+3408013]\n\tGetHandleVerifier [0x00007FF6B450741F+3504127]\n\tGetHandleVerifier [0x00007FF6B44FB5FD+3455453]\n\tGetHandleVerifier [0x00007FF6B427BDBB+835995]\n\t(No symbol) [0x00007FF6B412EB5F]\n\t(No symbol) [0x00007FF6B412A814]\n\t(No symbol) [0x00007FF6B412A9AD]\n\t(No symbol) [0x00007FF6B411A199]\n\tBaseThreadInitThunk [0x00007FFEA46E259D+29]\n\tRtlUserThreadStart [0x00007FFEA55EAF38+40]\n",
     "output_type": "error",
     "traceback": [
      "\u001b[1;31m---------------------------------------------------------------------------\u001b[0m",
      "\u001b[1;31mNoSuchElementException\u001b[0m                    Traceback (most recent call last)",
      "Cell \u001b[1;32mIn[69], line 28\u001b[0m\n\u001b[0;32m     25\u001b[0m time\u001b[38;5;241m.\u001b[39msleep(\u001b[38;5;241m1\u001b[39m)\n\u001b[0;32m     27\u001b[0m \u001b[38;5;66;03m# Click login button\u001b[39;00m\n\u001b[1;32m---> 28\u001b[0m \u001b[43mdriver\u001b[49m\u001b[38;5;241;43m.\u001b[39;49m\u001b[43mfind_element\u001b[49m\u001b[43m(\u001b[49m\u001b[43mBy\u001b[49m\u001b[38;5;241;43m.\u001b[39;49m\u001b[43mID\u001b[49m\u001b[43m,\u001b[49m\u001b[43m \u001b[49m\u001b[38;5;124;43m\"\u001b[39;49m\u001b[38;5;124;43mlogin-button\u001b[39;49m\u001b[38;5;124;43m\"\u001b[39;49m\u001b[43m)\u001b[49m\u001b[38;5;241m.\u001b[39mclick()\n\u001b[0;32m     29\u001b[0m time\u001b[38;5;241m.\u001b[39msleep(\u001b[38;5;241m10\u001b[39m)\n",
      "File \u001b[1;32mc:\\Users\\MR_DEL\\AppData\\Local\\Programs\\Python\\Python311\\Lib\\site-packages\\selenium\\webdriver\\remote\\webdriver.py:770\u001b[0m, in \u001b[0;36mWebDriver.find_element\u001b[1;34m(self, by, value)\u001b[0m\n\u001b[0;32m    767\u001b[0m         \u001b[38;5;28;01mraise\u001b[39;00m NoSuchElementException(\u001b[38;5;124mf\u001b[39m\u001b[38;5;124m\"\u001b[39m\u001b[38;5;124mCannot locate relative element with: \u001b[39m\u001b[38;5;132;01m{\u001b[39;00mby\u001b[38;5;241m.\u001b[39mroot\u001b[38;5;132;01m}\u001b[39;00m\u001b[38;5;124m\"\u001b[39m)\n\u001b[0;32m    768\u001b[0m     \u001b[38;5;28;01mreturn\u001b[39;00m elements[\u001b[38;5;241m0\u001b[39m]\n\u001b[1;32m--> 770\u001b[0m \u001b[38;5;28;01mreturn\u001b[39;00m \u001b[38;5;28;43mself\u001b[39;49m\u001b[38;5;241;43m.\u001b[39;49m\u001b[43mexecute\u001b[49m\u001b[43m(\u001b[49m\u001b[43mCommand\u001b[49m\u001b[38;5;241;43m.\u001b[39;49m\u001b[43mFIND_ELEMENT\u001b[49m\u001b[43m,\u001b[49m\u001b[43m \u001b[49m\u001b[43m{\u001b[49m\u001b[38;5;124;43m\"\u001b[39;49m\u001b[38;5;124;43musing\u001b[39;49m\u001b[38;5;124;43m\"\u001b[39;49m\u001b[43m:\u001b[49m\u001b[43m \u001b[49m\u001b[43mby\u001b[49m\u001b[43m,\u001b[49m\u001b[43m \u001b[49m\u001b[38;5;124;43m\"\u001b[39;49m\u001b[38;5;124;43mvalue\u001b[39;49m\u001b[38;5;124;43m\"\u001b[39;49m\u001b[43m:\u001b[49m\u001b[43m \u001b[49m\u001b[43mvalue\u001b[49m\u001b[43m}\u001b[49m\u001b[43m)\u001b[49m[\u001b[38;5;124m\"\u001b[39m\u001b[38;5;124mvalue\u001b[39m\u001b[38;5;124m\"\u001b[39m]\n",
      "File \u001b[1;32mc:\\Users\\MR_DEL\\AppData\\Local\\Programs\\Python\\Python311\\Lib\\site-packages\\selenium\\webdriver\\remote\\webdriver.py:384\u001b[0m, in \u001b[0;36mWebDriver.execute\u001b[1;34m(self, driver_command, params)\u001b[0m\n\u001b[0;32m    382\u001b[0m response \u001b[38;5;241m=\u001b[39m \u001b[38;5;28mself\u001b[39m\u001b[38;5;241m.\u001b[39mcommand_executor\u001b[38;5;241m.\u001b[39mexecute(driver_command, params)\n\u001b[0;32m    383\u001b[0m \u001b[38;5;28;01mif\u001b[39;00m response:\n\u001b[1;32m--> 384\u001b[0m     \u001b[38;5;28;43mself\u001b[39;49m\u001b[38;5;241;43m.\u001b[39;49m\u001b[43merror_handler\u001b[49m\u001b[38;5;241;43m.\u001b[39;49m\u001b[43mcheck_response\u001b[49m\u001b[43m(\u001b[49m\u001b[43mresponse\u001b[49m\u001b[43m)\u001b[49m\n\u001b[0;32m    385\u001b[0m     response[\u001b[38;5;124m\"\u001b[39m\u001b[38;5;124mvalue\u001b[39m\u001b[38;5;124m\"\u001b[39m] \u001b[38;5;241m=\u001b[39m \u001b[38;5;28mself\u001b[39m\u001b[38;5;241m.\u001b[39m_unwrap_value(response\u001b[38;5;241m.\u001b[39mget(\u001b[38;5;124m\"\u001b[39m\u001b[38;5;124mvalue\u001b[39m\u001b[38;5;124m\"\u001b[39m, \u001b[38;5;28;01mNone\u001b[39;00m))\n\u001b[0;32m    386\u001b[0m     \u001b[38;5;28;01mreturn\u001b[39;00m response\n",
      "File \u001b[1;32mc:\\Users\\MR_DEL\\AppData\\Local\\Programs\\Python\\Python311\\Lib\\site-packages\\selenium\\webdriver\\remote\\errorhandler.py:232\u001b[0m, in \u001b[0;36mErrorHandler.check_response\u001b[1;34m(self, response)\u001b[0m\n\u001b[0;32m    230\u001b[0m         alert_text \u001b[38;5;241m=\u001b[39m value[\u001b[38;5;124m\"\u001b[39m\u001b[38;5;124malert\u001b[39m\u001b[38;5;124m\"\u001b[39m]\u001b[38;5;241m.\u001b[39mget(\u001b[38;5;124m\"\u001b[39m\u001b[38;5;124mtext\u001b[39m\u001b[38;5;124m\"\u001b[39m)\n\u001b[0;32m    231\u001b[0m     \u001b[38;5;28;01mraise\u001b[39;00m exception_class(message, screen, stacktrace, alert_text)  \u001b[38;5;66;03m# type: ignore[call-arg]  # mypy is not smart enough here\u001b[39;00m\n\u001b[1;32m--> 232\u001b[0m \u001b[38;5;28;01mraise\u001b[39;00m exception_class(message, screen, stacktrace)\n",
      "\u001b[1;31mNoSuchElementException\u001b[0m: Message: no such element: Unable to locate element: {\"method\":\"css selector\",\"selector\":\"[id=\"login-button\"]\"}\n  (Session info: chrome=131.0.6778.86); For documentation on this error, please visit: https://www.selenium.dev/documentation/webdriver/troubleshooting/errors#no-such-element-exception\nStacktrace:\n\tGetHandleVerifier [0x00007FF6B41B6CB5+28821]\n\t(No symbol) [0x00007FF6B4123840]\n\t(No symbol) [0x00007FF6B3FC578A]\n\t(No symbol) [0x00007FF6B40191BE]\n\t(No symbol) [0x00007FF6B40194AC]\n\t(No symbol) [0x00007FF6B4062647]\n\t(No symbol) [0x00007FF6B403F33F]\n\t(No symbol) [0x00007FF6B405F412]\n\t(No symbol) [0x00007FF6B403F0A3]\n\t(No symbol) [0x00007FF6B400A778]\n\t(No symbol) [0x00007FF6B400B8E1]\n\tGetHandleVerifier [0x00007FF6B44EFCAD+3408013]\n\tGetHandleVerifier [0x00007FF6B450741F+3504127]\n\tGetHandleVerifier [0x00007FF6B44FB5FD+3455453]\n\tGetHandleVerifier [0x00007FF6B427BDBB+835995]\n\t(No symbol) [0x00007FF6B412EB5F]\n\t(No symbol) [0x00007FF6B412A814]\n\t(No symbol) [0x00007FF6B412A9AD]\n\t(No symbol) [0x00007FF6B411A199]\n\tBaseThreadInitThunk [0x00007FFEA46E259D+29]\n\tRtlUserThreadStart [0x00007FFEA55EAF38+40]\n"
     ]
    }
   ],
   "source": [
    "driver = webdriver.Chrome()\n",
    "driver.get(\"http://localhost:3000\")\n",
    "time.sleep(5)\n",
    "\n",
    "# Click Signup\n",
    "driver.find_element(By.ID, \"signup\").click()\n",
    "time.sleep(5)\n",
    "# Signup First\n",
    "# Wait for input fields to load and interact with them\n",
    "driver.find_element(By.NAME, \"firstName\").send_keys(\"Delowar\")\n",
    "\n",
    "driver.find_element(By.NAME, \"lastName\").send_keys(\"Hossain\")\n",
    "driver.find_element(By.NAME, \"email\").send_keys(\"ali@gmail.com\")\n",
    "driver.find_element(By.NAME, \"password\").send_keys(\"12345\")\n",
    "driver.find_element(By.NAME, \"confirmPassword\").send_keys(\"12345\")\n",
    "\n",
    "# Click on Create Account button\n",
    "driver.find_element(By.ID, \"create-account\").click()\n",
    "time.sleep(5)\n",
    "\n",
    "# Login First time after Signup\n",
    "driver.find_element(By.NAME, \"email\").send_keys(\"ali@gmail.com\")\n",
    "time.sleep(1)\n",
    "driver.find_element(By.NAME, \"password\").send_keys(\"12345\")\n",
    "time.sleep(1)\n",
    "\n",
    "# Click login button\n",
    "driver.find_element(By.ID, \"login-button\").click()\n",
    "time.sleep(10)\n"
   ]
  },
  {
   "cell_type": "markdown",
   "metadata": {},
   "source": [
    "Login Second Time"
   ]
  },
  {
   "cell_type": "code",
   "execution_count": 70,
   "metadata": {},
   "outputs": [],
   "source": [
    "#After login\n",
    "driver = webdriver.Chrome()\n",
    "driver.get(\"http://localhost:3000\")\n",
    "time.sleep(5)\n",
    "\n",
    "# Login\n",
    "driver.find_element(By.NAME, \"email\").send_keys(\"d@gmail.com\")\n",
    "time.sleep(1)\n",
    "driver.find_element(By.NAME, \"password\").send_keys(\"12345\")\n",
    "time.sleep(1)\n",
    "\n",
    "# Click login button\n",
    "driver.find_element(By.ID, \"login-button\").click()\n",
    "time.sleep(3)\n"
   ]
  },
  {
   "cell_type": "markdown",
   "metadata": {},
   "source": [
    "Test Theme changing"
   ]
  },
  {
   "cell_type": "code",
   "execution_count": 71,
   "metadata": {},
   "outputs": [],
   "source": [
    "#click theme button 1st for dropdown\n",
    "driver.find_element(By.ID, \"variant\").click()\n",
    "time.sleep(1)\n",
    "\n",
    "#click theme button 2nd click Dark Theme\n",
    "driver.find_element(By.XPATH, \"//*[@id='radix-:re:']/div[3]\").click()\n",
    "time.sleep(1)\n",
    "\n",
    "#click theme button 3rd click for dropdown\n",
    "driver.find_element(By.ID, \"variant\").click()\n",
    "time.sleep(1)\n",
    "\n",
    "#click theme button 4th click for white\n",
    "driver.find_element(By.XPATH, \"//*[@id='radix-:re:']/div[2]\").click()\n",
    "time.sleep(1)"
   ]
  },
  {
   "cell_type": "markdown",
   "metadata": {},
   "source": [
    "Testing Toggle side bar "
   ]
  },
  {
   "cell_type": "code",
   "execution_count": 72,
   "metadata": {},
   "outputs": [],
   "source": [
    "#click toggle button 1st\n",
    "driver.find_element(By.ID, \"trigger\").click()\n",
    "time.sleep(1)\n",
    "#click toggle button 2nd\n",
    "driver.find_element(By.ID, \"trigger\").click()\n",
    "time.sleep(1)"
   ]
  },
  {
   "cell_type": "markdown",
   "metadata": {},
   "source": [
    "Testing Portal Features Button "
   ]
  },
  {
   "cell_type": "code",
   "execution_count": 75,
   "metadata": {},
   "outputs": [],
   "source": [
    "#Click Home button\n",
    "driver.find_element(By.ID, \"1Home\").click()\n",
    "time.sleep(1)\n",
    "\n",
    "#Click Alumni List \n",
    "driver.find_element(By.ID, \"4Alumni List\").click()\n",
    "time.sleep(2)\n",
    "\n",
    "#click view profile button\n",
    "driver.find_element(By.ID, \"0view-profile\").click()\n",
    "time.sleep(2)\n",
    "\n",
    "#click Message button\n",
    "driver.find_element(By.ID, \"message\").click()\n",
    "time.sleep(2)\n",
    "#Events button\n",
    "driver.find_element(By.ID, \"6Events\").click()\n",
    "time.sleep(2)\n",
    "\n",
    "#Click Jobs button\n",
    "driver.find_element(By.ID, \"7Jobs\").click()\n",
    "time.sleep(2)\n",
    "\n",
    "#Click About Alumni button\n",
    "driver.find_element(By.ID, \"8About Alumni\").click()\n",
    "time.sleep(2)\n",
    "\n",
    "#Click Committee button\n",
    "driver.find_element(By.ID, \"9Committee\").click()\n",
    "time.sleep(2)\n",
    "\n",
    "#Click Contact button\n",
    "driver.find_element(By.ID, \"10Contact\").click()\n",
    "time.sleep(2)"
   ]
  },
  {
   "cell_type": "markdown",
   "metadata": {},
   "source": [
    "Testing User button"
   ]
  },
  {
   "cell_type": "code",
   "execution_count": 76,
   "metadata": {},
   "outputs": [],
   "source": [
    "#Click user button\n",
    "driver.find_element(By.ID, \"user\").click()\n",
    "time.sleep(1)\n",
    "\n",
    "#click account button\n",
    "driver.find_element(By.ID, \"account\").click()\n",
    "time.sleep(1)\n",
    "\n",
    "##Click Home button\n",
    "driver.find_element(By.ID, \"1Home\").click()\n",
    "time.sleep(1)\n",
    "\n",
    "#Click user button\n",
    "driver.find_element(By.ID, \"user\").click()\n",
    "time.sleep(1)\n",
    "\n",
    "#click logout button\n",
    "driver.find_element(By.ID, \"logout\").click()\n",
    "time.sleep(1)"
   ]
  },
  {
   "cell_type": "markdown",
   "metadata": {},
   "source": [
    "Login again after Logout"
   ]
  },
  {
   "cell_type": "code",
   "execution_count": 77,
   "metadata": {},
   "outputs": [],
   "source": [
    "#After login\n",
    "driver = webdriver.Chrome()\n",
    "driver.get(\"http://localhost:3000\")\n",
    "time.sleep(2)\n",
    "\n",
    "# Login\n",
    "driver.find_element(By.NAME, \"email\").send_keys(\"d@gmail.com\")\n",
    "time.sleep(1)\n",
    "driver.find_element(By.NAME, \"password\").send_keys(\"12345\")\n",
    "time.sleep(1)\n",
    "\n",
    "# Click login button\n",
    "driver.find_element(By.ID, \"login-button\").click()\n",
    "time.sleep(2)"
   ]
  },
  {
   "cell_type": "markdown",
   "metadata": {},
   "source": [
    "Testing Create job post"
   ]
  },
  {
   "cell_type": "code",
   "execution_count": null,
   "metadata": {},
   "outputs": [],
   "source": [
    "#Click Jobs button\n",
    "driver.find_element(By.ID, \"7Jobs\").click()\n",
    "time.sleep(1)\n",
    "\n",
    "#Click Add Job button\n",
    "driver.find_element(By.ID, \"add-job\").click()\n",
    "time.sleep(1)\n",
    "\n",
    "#Fill up the form\n",
    "driver.find_element(By.NAME, \"job_title\").send_keys(\"Software Engineer\")\n",
    "time.sleep(1)\n",
    "driver.find_element(By.NAME, \"company\").send_keys(\"Google\")\n",
    "time.sleep(1)\n",
    "driver.find_element(By.NAME, \"location\").send_keys(\"Mountain View, CA\")\n",
    "time.sleep(2)\n",
    "driver.find_element(By.ID, \"description\").send_keys(\"I am a software engineer\")\n",
    "time.sleep(1)\n",
    "driver.find_element(By.NAME, \"jobType\").send_keys(\"Remote\")\n",
    "driver.find_element(By.NAME, \"experience\").send_keys(2)\n",
    "driver.find_element(By.NAME, \"salary\").send_keys(\"100000\")\n",
    "time.sleep(1)\n",
    "driver.find_element(By.NAME, \"deadline\").send_keys(\"12-12-2024\")\n",
    "time.sleep(1)\n",
    "driver.find_element(By.NAME, \"email\").send_keys(\"g@gmail.com\")\n",
    "time.sleep(1)\n",
    "\n",
    "#Click Post Job button\n",
    "driver.find_element(By.ID, \"post-job-btn\").click()\n",
    "time.sleep(4)\n",
    "\n",
    "#Click Home button\n",
    "driver.find_element(By.ID, \"1Home\").click()\n",
    "time.sleep(1)"
   ]
  },
  {
   "cell_type": "code",
   "execution_count": null,
   "metadata": {},
   "outputs": [],
   "source": []
  },
  {
   "cell_type": "code",
   "execution_count": null,
   "metadata": {},
   "outputs": [],
   "source": []
  }
 ],
 "metadata": {
  "kernelspec": {
   "display_name": "Python 3",
   "language": "python",
   "name": "python3"
  },
  "language_info": {
   "codemirror_mode": {
    "name": "ipython",
    "version": 3
   },
   "file_extension": ".py",
   "mimetype": "text/x-python",
   "name": "python",
   "nbconvert_exporter": "python",
   "pygments_lexer": "ipython3",
   "version": "3.11.4"
  }
 },
 "nbformat": 4,
 "nbformat_minor": 2
}
