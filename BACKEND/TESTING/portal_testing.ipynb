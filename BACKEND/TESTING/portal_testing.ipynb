{
 "cells": [
  {
   "cell_type": "markdown",
   "metadata": {},
   "source": [
    "Import Dependencies"
   ]
  },
  {
   "cell_type": "code",
   "execution_count": null,
   "metadata": {},
   "outputs": [
    {
     "name": "stdout",
     "output_type": "stream",
     "text": [
      "hello\n"
     ]
    }
   ],
   "source": [
    "from selenium import webdriver\n",
    "from selenium.webdriver.common.by import By\n",
    "from selenium.webdriver.support.ui import WebDriverWait\n",
    "from selenium.webdriver.support import expected_conditions as EC\n",
    "import time\n",
    "\n"
   ]
  },
  {
   "cell_type": "markdown",
   "metadata": {},
   "source": [
    "Signup"
   ]
  },
  {
   "cell_type": "code",
   "execution_count": 9,
   "metadata": {
    "scrolled": true
   },
   "outputs": [],
   "source": [
    "driver = webdriver.Chrome()\n",
    "driver.get(\"http://localhost:3000\")\n",
    "time.sleep(5)\n",
    "\n",
    "# Click Signup\n",
    "driver.find_element(By.ID, \"signup\").click()\n",
    "time.sleep(5)\n",
    "# Signup First\n",
    "# Wait for input fields to load and interact with them\n",
    "driver.find_element(By.NAME, \"firstName\").send_keys(\"Delowar\")\n",
    "\n",
    "driver.find_element(By.NAME, \"lastName\").send_keys(\"Hossain\")\n",
    "driver.find_element(By.NAME, \"email\").send_keys(\"ali@gmail.com\")\n",
    "driver.find_element(By.NAME, \"password\").send_keys(\"12345\")\n",
    "driver.find_element(By.NAME, \"confirmPassword\").send_keys(\"12345\")\n",
    "\n",
    "# Click on Create Account button\n",
    "driver.find_element(By.ID, \"create-account\").click()\n",
    "time.sleep(5)\n",
    "\n",
    "# Login First time after Signup\n",
    "driver.find_element(By.NAME, \"email\").send_keys(\"ali@gmail.com\")\n",
    "time.sleep(1)\n",
    "driver.find_element(By.NAME, \"password\").send_keys(\"12345\")\n",
    "time.sleep(1)\n",
    "\n",
    "# Click login button\n",
    "driver.find_element(By.ID, \"login-button\").click()\n",
    "time.sleep(10)\n"
   ]
  },
  {
   "cell_type": "markdown",
   "metadata": {},
   "source": [
    "Login Second Time"
   ]
  },
  {
   "cell_type": "code",
   "execution_count": 12,
   "metadata": {},
   "outputs": [],
   "source": [
    "#After login\n",
    "driver = webdriver.Chrome()\n",
    "driver.get(\"http://localhost:3000\")\n",
    "time.sleep(5)\n",
    "\n",
    "# Login\n",
    "driver.find_element(By.NAME, \"email\").send_keys(\"d@gmail.com\")\n",
    "time.sleep(1)\n",
    "driver.find_element(By.NAME, \"password\").send_keys(\"12345\")\n",
    "time.sleep(1)\n",
    "\n",
    "# Click login button\n",
    "driver.find_element(By.ID, \"login-button\").click()\n",
    "time.sleep(3)\n"
   ]
  },
  {
   "cell_type": "markdown",
   "metadata": {},
   "source": [
    "Test Theme changing"
   ]
  },
  {
   "cell_type": "code",
   "execution_count": 11,
   "metadata": {},
   "outputs": [],
   "source": [
    "#click theme button 1st for dropdown\n",
    "driver.find_element(By.ID, \"variant\").click()\n",
    "time.sleep(1)\n",
    "\n",
    "#click theme button 2nd click Dark Theme\n",
    "driver.find_element(By.XPATH, \"//*[@id='radix-:re:']/div[3]\").click()\n",
    "time.sleep(1)\n",
    "\n",
    "#click theme button 3rd click for dropdown\n",
    "driver.find_element(By.ID, \"variant\").click()\n",
    "time.sleep(1)\n",
    "\n",
    "#click theme button 4th click for white\n",
    "driver.find_element(By.XPATH, \"//*[@id='radix-:re:']/div[2]\").click()\n",
    "time.sleep(1)"
   ]
  },
  {
   "cell_type": "markdown",
   "metadata": {},
   "source": [
    "Testing Toggle side bar "
   ]
  },
  {
   "cell_type": "code",
   "execution_count": null,
   "metadata": {},
   "outputs": [],
   "source": [
    "#click toggle button 1st\n",
    "driver.find_element(By.ID, \"trigger\").click()\n",
    "time.sleep(1)\n",
    "#click toggle button 2nd\n",
    "driver.find_element(By.ID, \"trigger\").click()\n",
    "time.sleep(1)"
   ]
  },
  {
   "cell_type": "markdown",
   "metadata": {},
   "source": [
    "Testing Portal Features Button "
   ]
  },
  {
   "cell_type": "code",
   "execution_count": null,
   "metadata": {},
   "outputs": [],
   "source": [
    "#Click Home button\n",
    "driver.find_element(By.ID, \"1Home\").click()\n",
    "time.sleep(1)\n",
    "\n",
    "#Click Alumni List \n",
    "driver.find_element(By.ID, \"4Alumni List\").click()\n",
    "time.sleep(2)\n",
    "\n",
    "#click view profile button\n",
    "driver.find_element(By.ID, \"0view-profile\").click()\n",
    "time.sleep(2)\n",
    "\n",
    "#click Message button\n",
    "driver.find_element(By.ID, \"message\").click()\n",
    "time.sleep(2)\n",
    "#Events button\n",
    "driver.find_element(By.ID, \"6Events\").click()\n",
    "time.sleep(2)\n",
    "\n",
    "#Click Jobs button\n",
    "driver.find_element(By.ID, \"7Jobs\").click()\n",
    "time.sleep(2)\n",
    "\n",
    "#Click About Alumni button\n",
    "driver.find_element(By.ID, \"8About Alumni\").click()\n",
    "time.sleep(2)\n",
    "\n",
    "#Click Committee button\n",
    "driver.find_element(By.ID, \"9Committee\").click()\n",
    "time.sleep(2)\n",
    "\n",
    "#Click Contact button\n",
    "driver.find_element(By.ID, \"10Contact\").click()\n",
    "time.sleep(2)"
   ]
  },
  {
   "cell_type": "markdown",
   "metadata": {},
   "source": [
    "Testing User button"
   ]
  },
  {
   "cell_type": "code",
   "execution_count": null,
   "metadata": {},
   "outputs": [],
   "source": [
    "#Click user button\n",
    "driver.find_element(By.ID, \"user\").click()\n",
    "time.sleep(1)\n",
    "\n",
    "#click account button\n",
    "driver.find_element(By.ID, \"account\").click()\n",
    "time.sleep(1)\n",
    "\n",
    "##Click Home button\n",
    "driver.find_element(By.ID, \"1Home\").click()\n",
    "time.sleep(1)\n",
    "\n",
    "#Click user button\n",
    "driver.find_element(By.ID, \"user\").click()\n",
    "time.sleep(1)\n",
    "\n",
    "#click logout button\n",
    "driver.find_element(By.ID, \"logout\").click()\n",
    "time.sleep(1)"
   ]
  },
  {
   "cell_type": "markdown",
   "metadata": {},
   "source": [
    "Login again after Logout"
   ]
  },
  {
   "cell_type": "code",
   "execution_count": null,
   "metadata": {},
   "outputs": [],
   "source": [
    "#After login\n",
    "driver = webdriver.Chrome()\n",
    "driver.get(\"http://localhost:3000\")\n",
    "time.sleep(2)\n",
    "\n",
    "# Login\n",
    "driver.find_element(By.NAME, \"email\").send_keys(\"d@gmail.com\")\n",
    "time.sleep(1)\n",
    "driver.find_element(By.NAME, \"password\").send_keys(\"12345\")\n",
    "time.sleep(1)\n",
    "\n",
    "# Click login button\n",
    "driver.find_element(By.ID, \"login-button\").click()\n",
    "time.sleep(2)"
   ]
  },
  {
   "cell_type": "markdown",
   "metadata": {},
   "source": [
    "Testing Create job post"
   ]
  },
  {
   "cell_type": "code",
   "execution_count": null,
   "metadata": {},
   "outputs": [],
   "source": [
    "#Click Jobs button\n",
    "driver.find_element(By.ID, \"7Jobs\").click()\n",
    "time.sleep(1)\n",
    "\n",
    "#Click Add Job button\n",
    "driver.find_element(By.ID, \"add-job\").click()\n",
    "time.sleep(1)\n",
    "\n",
    "#Fill up the form\n",
    "driver.find_element(By.NAME, \"job_title\").send_keys(\"Software Engineer\")\n",
    "time.sleep(1)\n",
    "driver.find_element(By.NAME, \"company\").send_keys(\"Google\")\n",
    "time.sleep(1)\n",
    "driver.find_element(By.NAME, \"location\").send_keys(\"Mountain View, CA\")\n",
    "time.sleep(2)\n",
    "driver.find_element(By.ID, \"description\").send_keys(\"I am a software engineer\")\n",
    "time.sleep(1)\n",
    "driver.find_element(By.NAME, \"jobType\").send_keys(\"Remote\")\n",
    "driver.find_element(By.NAME, \"experience\").send_keys(2)\n",
    "driver.find_element(By.NAME, \"salary\").send_keys(\"100000\")\n",
    "time.sleep(1)\n",
    "driver.find_element(By.NAME, \"deadline\").send_keys(\"12-12-2024\")\n",
    "time.sleep(1)\n",
    "driver.find_element(By.NAME, \"email\").send_keys(\"g@gmail.com\")\n",
    "time.sleep(1)\n",
    "\n",
    "#Click Post Job button\n",
    "driver.find_element(By.ID, \"post-job-btn\").click()\n",
    "time.sleep(4)\n",
    "\n",
    "#Click Home button\n",
    "driver.find_element(By.ID, \"1Home\").click()\n",
    "time.sleep(1)"
   ]
  },
  {
   "cell_type": "markdown",
   "metadata": {},
   "source": [
    "Testing Contact us"
   ]
  },
  {
   "cell_type": "code",
   "execution_count": null,
   "metadata": {},
   "outputs": [],
   "source": [
    "#Click Contact button\n",
    "driver.find_element(By.ID, \"10Contact\").click()\n",
    "time.sleep(2)\n",
    "\n",
    "#Fill the Contact form\n",
    "driver.find_element(By.ID, \"full-name-contact\").send_keys(\"Delowar Hossain\")\n",
    "time.sleep(1)\n",
    "driver.find_element(By.ID, \"contact-email\").send_keys(\"farmgate@gmail.com\")\n",
    "time.sleep(2)\n",
    "driver.find_element(By.ID, \"write-message-contact\").click()\n",
    "time.sleep(1)\n",
    "\n",
    "#Click Send Message button\n",
    "driver.find_element(By.ID, \"send-message-contact\").send_keys(\" This is nice and helpful portal for Alumni\")  \n",
    "time.sleep(2)\n",
    "\n",
    "#Click Home button\n",
    "driver.find_element(By.ID, \"1Home\").click()\n",
    "time.sleep(1)"
   ]
  },
  {
   "cell_type": "code",
   "execution_count": null,
   "metadata": {},
   "outputs": [],
   "source": []
  }
 ],
 "metadata": {
  "kernelspec": {
   "display_name": "Python 3 (ipykernel)",
   "language": "python",
   "name": "python3"
  },
  "language_info": {
   "codemirror_mode": {
    "name": "ipython",
    "version": 3
   },
   "file_extension": ".py",
   "mimetype": "text/x-python",
   "name": "python",
   "nbconvert_exporter": "python",
   "pygments_lexer": "ipython3",
   "version": "3.12.7"
  }
 },
 "nbformat": 4,
 "nbformat_minor": 4
}
